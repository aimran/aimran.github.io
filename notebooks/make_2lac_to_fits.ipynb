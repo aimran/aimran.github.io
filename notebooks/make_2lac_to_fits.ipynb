{
 "metadata": {
  "name": ""
 },
 "nbformat": 3,
 "nbformat_minor": 0,
 "worksheets": [
  {
   "cells": [
    {
     "cell_type": "markdown",
     "metadata": {},
     "source": [
      "#Generating fits version of 2LAC Catalog\n",
      "####Asif Imran (aimran@icecube.wisc.edu)"
     ]
    },
    {
     "cell_type": "markdown",
     "metadata": {},
     "source": [
      "The Fermi Large Area Telescope recently released a [catalog](http://adsabs.harvard.edu/abs/2011ApJ...743..171A) of active galacic nuclei (AGN) based on last 2 years of scientific operation. Obviously, for anyone studying the extra-galactic sky in gamma rays, the 2nd year AGN catalog (2LAC) is a treasure field. Fermi released a number of their previous catalogs in the convenient FITS format. However, the 2LAC somehow did not make the list.\n",
      "\n",
      "Fortunately for us, the ASI Science Data Center (ASDC), a facility of the Italian Space agency (ASI) maintains a very helpful [online version of several Fermi catalogs](http://www.asdc.asi.it/fermi2lac/), incuding 2LAC. Moreover, they allow you to download the entire catalog in csv format! I figured its worth an afternoon's work to convert the csv file into one in FITS format.   \n",
      "\n",
      "I went ahead and selected all fields and all entries using the web-form and downloaded a csv file. As it turns out, the csv database is a tad dirty. Therefore, a good part of my little afternoon hack was spent trying to clean up the mess. I'm documenting my work in hopes that it may be useful for some. In a latter notebook, I will show how to conveniently parse the resulting FITS file."
     ]
    },
    {
     "cell_type": "code",
     "collapsed": false,
     "input": [
      "from astropy.io import fits as pyfits\n",
      "import numpy as np\n",
      "from StringIO import StringIO\n",
      "from datetime import datetime"
     ],
     "language": "python",
     "metadata": {},
     "outputs": [],
     "prompt_number": 1
    },
    {
     "cell_type": "heading",
     "level": 2,
     "metadata": {},
     "source": [
      "Cleaning up the Column Names and Data Types"
     ]
    },
    {
     "cell_type": "markdown",
     "metadata": {},
     "source": [
      "It turns out that some of the column names had traling empty spaces in them. In addition, there are quite a few null values. As a result, <code>numpy</code> fails to reliably determine the data types for several columns. I went through the csv header and decided to hard-wire all the column names along with the data types. I will come back later to fix the null entries."
     ]
    },
    {
     "cell_type": "code",
     "collapsed": false,
     "input": [
      "conv_type = [('Fermi_Name', '|S17'), ('CName', '|S22'), \n",
      "             ('RAJ2000', 'float32'), ('DEJ2000', 'float32'), \n",
      "            ('GLON', 'float32'), ('GLAT', 'float32'), \n",
      "            ('AngSep', 'float32'), ('PosErr95deg', 'float32'), \n",
      "            ('Class', '|S16'), ('Redshift', 'float32'),\n",
      "            ('SED_Type', '|S3'), ('BayProb', 'float32'), \n",
      "            ('LR_RGProb', 'float32'),('LR_XGProb', 'float32'), \n",
      "            ('LogNLogSProb', 'float32'), \n",
      "            ('LR_RG', 'float32'), ('LR_XG', 'float32'), \n",
      "            ('Flux1000_100000', 'float32'), \n",
      "            ('Unc_Flux1000_100000', 'float32'),\n",
      "            ('Spectral_Index', 'float32'),\n",
      "            ('Unc_Spectral_Index', 'float32'), \n",
      "            ('TS', 'float32'), ('Radio_Flux', 'float32'), \n",
      "            ('Xray_Flux', 'float32'), ('USNOVmag', 'float32'), \n",
      "            ('SDSSVmag', 'float32'), ('ARO', 'float32'), \n",
      "            ('AOX', 'float32'), ('CLEAN', '<i4'), \n",
      "            ('IN_2FGL', '<i4')]"
     ],
     "language": "python",
     "metadata": {},
     "outputs": [],
     "prompt_number": 2
    },
    {
     "cell_type": "markdown",
     "metadata": {},
     "source": [
      "Here are a some handy converters that we can feed into numpy's fabulous <code>genfromtxt</code> routine. It has tons of knobs (compared to, say, the simple loadtxt) that you can use to really fine tune your data munging. "
     ]
    },
    {
     "cell_type": "code",
     "collapsed": false,
     "input": [
      "# Fairly obvious what these does... turns '-' \n",
      "# into reasonable values\n",
      "def convertToFloat(s):\n",
      "    if s == '-':\n",
      "        return np.inf   \n",
      "    else:\n",
      "        return float(s)\n",
      "\n",
      "def fixClass(s):\n",
      "    if s == '-':\n",
      "        return 'None'\n",
      "    else:\n",
      "        return s\n",
      "\n",
      "# I find it easier to deal with 1/0 instead of YES/NO\n",
      "def convertYesNoToBool(s):\n",
      "    if s == 'YES':\n",
      "        return 1\n",
      "    elif s== 'NO':\n",
      "        return 0\n",
      "    else:\n",
      "        if s != '1': print 'Can not convert to bool', s\n",
      "        return 99 "
     ],
     "language": "python",
     "metadata": {},
     "outputs": [],
     "prompt_number": 3
    },
    {
     "cell_type": "markdown",
     "metadata": {},
     "source": [
      "Open the csv file. I saved it as 'fermi2LAC_raw_data.csv'. I then use <code>genfromtxt</code> to convert it to a numpy array. Note that the use of dtype now allows me to refer to the columns by names (as specified by the keys in conv_type). Also, I really like the use of converters to deal with null entries at the time of reading the file (a great example of functional programming, IMO). Finally, we have a [structured array](http://docs.scipy.org/doc/numpy/user/basics.rec.html#module-numpy.doc.structured_arrays), conveniently named <code>data</code> that corresponds to all the entries read from the csv files. "
     ]
    },
    {
     "cell_type": "code",
     "collapsed": false,
     "input": [
      "fil = open('../data/fermi2LAC_raw_data.csv')\n",
      "\n",
      "my_converters = {'Class':fixClass, \n",
      "                 'TS':convertToFloat, \n",
      "                 'AOX': convertToFloat, \n",
      "                 'ARO': convertToFloat,\n",
      "                 'Radio_Flux': convertToFloat,\n",
      "                 'Xray_Flux': convertToFloat,\n",
      "                 'USNOVmag': convertToFloat,\n",
      "                 'SDSSVmag': convertToFloat, \n",
      "                 'CLEAN':convertYesNoToBool, \n",
      "                 'IN_2FGL':convertYesNoToBool}\n",
      "data = np.genfromtxt(fil, comments='#',\n",
      "                     delimiter=',', \n",
      "                     autostrip=True, \n",
      "                     names=True, dtype=conv_type, \n",
      "                     converters= my_converters\n",
      "                     )\n"
     ],
     "language": "python",
     "metadata": {},
     "outputs": [],
     "prompt_number": 4
    },
    {
     "cell_type": "markdown",
     "metadata": {},
     "source": [
      "A quick sanity check (not meant to be complete) to see if we have any unreasonable data (e.g., stray characters, quotes etc.) still lurking in the data array. "
     ]
    },
    {
     "cell_type": "code",
     "collapsed": false,
     "input": [
      "def checkValid(x, show=False):\n",
      "    if data.dtype[x] != np.dtype('float32'): return 'N/A'\n",
      "    a = np.isnan(data[x])\n",
      "    if np.sum(a) > 0 :return False\n",
      "    else: return True\n",
      "    \n",
      "for name in data.dtype.names:\n",
      "    c = checkValid(name)\n",
      "    if c is False:\n",
      "        print name,\"\\t\\t\", checkValid(name)"
     ],
     "language": "python",
     "metadata": {},
     "outputs": [],
     "prompt_number": 5
    },
    {
     "cell_type": "heading",
     "level": 2,
     "metadata": {},
     "source": [
      "Creating FITS File"
     ]
    },
    {
     "cell_type": "markdown",
     "metadata": {},
     "source": [
      "At this point, we are in a reasonable shape to try and attempt to create the FITS file. [FITS](http://fits.gsfc.nasa.gov) is an open standard, digital file format used throughout the astronomy community. It's heavily used by astronomers for the purposes of storing large images/data sets, transferring data over the wire and performing routine analysis. I will avoid delving into the details of actual FITS standards but the reader may find it useful to carefully go over them. \n",
      "\n",
      "Fortunately for us pythonistas', there is a great package called [pyfits](https://pyfits.readthedocs.org/en/v3.2.0/) that makes generating FITS files and dealing with them almost a breeze. Although <code>pyfits</code> is marked to be [deprecated](http://pythonhosted.org/pyfits/developers_guide/developers_guide.html) in the near future, it has found a new home with the great [astropy](http://www.astropy.org) community. The goal is to eventually provide a drop-in replacement for the original<code>pyfits</code> within astropy. \n",
      "\n",
      "In order to build the FITS table from our data, we need to provide the unit, a short description and a data type for each of the field to be stored in FITS format. One can concievably skip this step all together but then the resulting FITS file may become incomprehensible as time passes (*\"Was RA in degrees or radians??\"*). So, I decided to fill in the details to the best of my abilities. There is of course a convenient table of description for each of the fields in the original paper accompanying the 2LAC release-- I cut and pasted as appropriate."
     ]
    },
    {
     "cell_type": "code",
     "collapsed": false,
     "input": [
      "#Dictionary of units for each field\n",
      "unitmap = dict((('Fermi_Name', None), ('CName', None), \n",
      "                ('RAJ2000', 'deg'), ('DEJ2000', 'deg'), \n",
      "                ('GLON', 'deg'), ('GLAT', 'deg'), \n",
      "                ('AngSep', 'deg'),('PosErr95deg', 'deg'), \n",
      "                ('Class', None), ('Redshift', None), \n",
      "                ('SED_Type', None), ('BayProb', None), \n",
      "                ('LR_RGProb', None), ('LR_XGProb', None), \n",
      "                ('LogNLogSProb', None), ('LR_RG', None),\n",
      "                ('LR_XG', None), \n",
      "                ('Flux1000_100000', 'photon/cm2/s'), \n",
      "                ('Unc_Flux1000_100000', 'photon/cm2/s'),\n",
      "                ('Spectral_Index', None), \n",
      "                ('Unc_Spectral_Index', None), \n",
      "                ('TS', None), ('Radio_Flux', 'mJy'),\n",
      "                ('Xray_Flux', 'erg/cm2/s'), ('USNOVmag', None), \n",
      "                ('SDSSVmag', None), ('ARO', None), \n",
      "                ('AOX', None), \n",
      "                ('CLEAN',  None), ('IN_2FGL', None)))\n",
      "\n",
      "#Dictionary of descriptions for each field\n",
      "descmap = dict((('Fermi_Name', 'Name of the 2FGL source'), \n",
      "                ('CName', 'Name of the counterpart'), \n",
      "                ('RAJ2000', 'Right Ascension (J2000) of the counterpart'),\n",
      "                ('DEJ2000', 'Declination (J2000) of the counterpart'),\n",
      "                ('GLON', 'Galactic Longitude'), ('GLAT', 'Galactic Latitude'), \n",
      "                ('AngSep', 'Ang. between 2FGL and its counterpart'),\n",
      "                ('PosErr95deg', '95% error radius'), ('Class', 'Optical class'), \n",
      "                ('Redshift', 'Redshift'), \n",
      "                ('SED_Type', 'SED class based on the synch. peak freq.'), \n",
      "                ('BayProb', 'Bayesian probability'), \n",
      "                ('LR_RGProb', 'LH prob. for Radio-gamma assoc.'), \n",
      "                ('LR_XGProb', 'LH prob. for X-gamma association'), \n",
      "                ('LogNLogSProb', 'logN-logS probability'), \n",
      "                ('LR_RG', 'LH Ratio reliability for Radio-gamma assoc'),\n",
      "                ('LR_XG', 'LH Ratio reliability for X-gamma assoc.'), \n",
      "                ('Flux1000_100000', 'Photon flux for 1 GeV-100 GeV'), \n",
      "                ('Unc_Flux1000_100000', 'Error in photon flux for 1 GeV-100 GeV'),\n",
      "                ('Spectral_Index', 'Spectral Index'), \n",
      "                ('Unc_Spectral_Index', 'Error on Spectral Index'), \n",
      "                ('TS', 'Test Statistics: significance'), \n",
      "                ('Radio_Flux', 'Radio flux'), ('Xray_Flux', 'X ray band flux'), \n",
      "                ('USNOVmag', 'V Magnitude from USNO B1'), \n",
      "                ('SDSSVmag', 'V Magnitude from SDSS'), \n",
      "                ('ARO', 'Spectral index between radio and Opt. band'), \n",
      "                ('AOX', 'Spectral index between opt. and X band'), \n",
      "                ('CLEAN', 'Flag for a source in the Clean sample'), \n",
      "                ('IN_2FGL', 'Flag for a source in the 2FGL List')))\n",
      "\n",
      "#Dictionary of data types for each field\n",
      "dispmap = dict((('Fermi_Name', 'A17'), ('CName', 'A22'), \n",
      "                ('RAJ2000', 'F8.4'), ('DEJ2000', 'F8.4'), \n",
      "                ('GLON', 'F8.4'), ('GLAT', 'F8.4'),\n",
      "                ('AngSep', 'F8.4'), ('PosErr95deg', 'F8.4'), \n",
      "                ('Class', 'A16'), ('Redshift', 'F8.4'), \n",
      "                ('SED_Type', 'A3'), ('BayProb', 'F8.3'), \n",
      "                ('LR_RGProb', 'F8.3'), ('LR_XGProb', 'F8.3'), \n",
      "                ('LogNLogSProb', 'F8.3'), ('LR_RG', 'F8.3'), \n",
      "                ('LR_XG', 'F8.3'),('Flux1000_100000', 'E10.4'), \n",
      "                ('Unc_Flux1000_100000', 'E10.4'), \n",
      "                ('Spectral_Index', 'F8.4'), \n",
      "                ('Unc_Spectral_Index', 'F8.4'),\n",
      "                ('TS', 'F8.3'), ('Radio_Flux', 'F10.4'),\n",
      "                ('Xray_Flux', 'E10.4'), ('USNOVmag', 'F8.3'),\n",
      "                ('SDSSVmag', 'F8.3'), ('ARO', 'F8.3'), \n",
      "                ('AOX', 'F8.3'), ('CLEAN', None), \n",
      "                ('IN_2FGL', None)))\n",
      "\n",
      "\n",
      "fitFormatType = {}\n",
      "#Here is a translation of numpy dtype into FITS dtype\n",
      "locmap = {'S':'A','f':'E','i':'I'} \n",
      "for d in data.dtype.names:\n",
      "    f = data[d].dtype.str\n",
      "    f = f[1:] #discard the dtype qualifier\n",
      "    fitType = locmap[f[0]]\n",
      "    fitLen = f[1:]\n",
      "    fitFormat = fitType+fitLen\n",
      "    fitFormatType[d] = fitFormat\n",
      "    "
     ],
     "language": "python",
     "metadata": {},
     "outputs": [],
     "prompt_number": 6
    },
    {
     "cell_type": "markdown",
     "metadata": {},
     "source": [
      "Create an array of pyfits.columns that will shortly be written into the FITS file"
     ]
    },
    {
     "cell_type": "code",
     "collapsed": false,
     "input": [
      "columns = []\n",
      "#create a pyfit.column for each of the column in our data array\n",
      "for d in data.dtype.names:\n",
      "    columns.append(pyfits.Column(name=d, \n",
      "                                 format=fitFormatType[d], \n",
      "                                 unit=unitmap[d],\n",
      "                                 disp = dispmap[d], \n",
      "                                 array=data[d]))\n",
      "print columns"
     ],
     "language": "python",
     "metadata": {},
     "outputs": [
      {
       "output_type": "stream",
       "stream": "stdout",
       "text": [
        "[name = 'Fermi_Name'; format = 'A17'; disp = 'A17', name = 'CName'; format = 'A22'; disp = 'A22', name = 'RAJ2000'; format = 'E4'; unit = 'deg'; disp = 'F8.4', name = 'DEJ2000'; format = 'E4'; unit = 'deg'; disp = 'F8.4', name = 'GLON'; format = 'E4'; unit = 'deg'; disp = 'F8.4', name = 'GLAT'; format = 'E4'; unit = 'deg'; disp = 'F8.4', name = 'AngSep'; format = 'E4'; unit = 'deg'; disp = 'F8.4', name = 'PosErr95deg'; format = 'E4'; unit = 'deg'; disp = 'F8.4', name = 'Class'; format = 'A16'; disp = 'A16', name = 'Redshift'; format = 'E4'; disp = 'F8.4', name = 'SED_Type'; format = 'A3'; disp = 'A3', name = 'BayProb'; format = 'E4'; disp = 'F8.3', name = 'LR_RGProb'; format = 'E4'; disp = 'F8.3', name = 'LR_XGProb'; format = 'E4'; disp = 'F8.3', name = 'LogNLogSProb'; format = 'E4'; disp = 'F8.3', name = 'LR_RG'; format = 'E4'; disp = 'F8.3', name = 'LR_XG'; format = 'E4'; disp = 'F8.3', name = 'Flux1000_100000'; format = 'E4'; unit = 'photon/cm2/s'; disp = 'E10.4', name = 'Unc_Flux1000_100000'; format = 'E4'; unit = 'photon/cm2/s'; disp = 'E10.4', name = 'Spectral_Index'; format = 'E4'; disp = 'F8.4', name = 'Unc_Spectral_Index'; format = 'E4'; disp = 'F8.4', name = 'TS'; format = 'E4'; disp = 'F8.3', name = 'Radio_Flux'; format = 'E4'; unit = 'mJy'; disp = 'F10.4', name = 'Xray_Flux'; format = 'E4'; unit = 'erg/cm2/s'; disp = 'E10.4', name = 'USNOVmag'; format = 'E4'; disp = 'F8.3', name = 'SDSSVmag'; format = 'E4'; disp = 'F8.3', name = 'ARO'; format = 'E4'; disp = 'F8.3', name = 'AOX'; format = 'E4'; disp = 'F8.3', name = 'CLEAN'; format = 'I4', name = 'IN_2FGL'; format = 'I4']\n"
       ]
      }
     ],
     "prompt_number": 7
    },
    {
     "cell_type": "markdown",
     "metadata": {},
     "source": [
      "At long last, we are ready to write the file. The actual python command for it is very terse indeed. "
     ]
    },
    {
     "cell_type": "code",
     "collapsed": false,
     "input": [
      "# Create primary header/data unit (mandatory for every file)\n",
      "hdu = pyfits.PrimaryHDU()\n",
      "\n",
      "# Add helpful/descriptive fields to the header, includig a checksum \n",
      "hdu.header.set('FILENAME','fermi_2lac_v01.fits',after='EXTEND')\n",
      "hdu.header.set('VERSION','v01', after='FILENAME')\n",
      "hdu.add_checksum(override_datasum=False)\n",
      "\n",
      "# Define columns for the FITS table\n",
      "cols = pyfits.ColDefs(columns)\n",
      "\n",
      "# Define a FITS data table containing all your column\n",
      "tbhdu = pyfits.new_table(cols)\n",
      "\n",
      "# Append description to each of the field names\n",
      "for k in tbhdu.header.cards:\n",
      "    if k.value in descmap.keys():\n",
      "        tbhdu.header.comments[k.keyword] = descmap[k.value]\n",
      "        \n",
      "# More comments-- who created it etc.\n",
      "tbhdu.header.set('COMMENT','',after='TFIELDS')\n",
      "tbhdu.header.set('COMMENT','*** End of mandatory fields ***',\n",
      "                 after=('COMMENT',0))\n",
      "tbhdu.header.set('COMMENT','',after=('COMMENT',1))\n",
      "tbhdu.header.set('COMMENT','',after=('COMMENT',2))\n",
      "tbhdu.header.set('COMMENT',\n",
      "                 'Author: Asif Imran (aimran_at_icecube_dot_wisc_dot_edu)',\n",
      "                 after=('COMMENT',3))\n",
      "tbhdu.header.set('COMMENT',\n",
      "                 'Created on %s'%datetime.today().strftime(\"%m-%d-%Y %H:%M\"),\n",
      "                 after=('COMMENT',4))\n",
      "tbhdu.header.set('COMMENT','*** Columns names ***',after=('COMMENT',5))\n",
      "tbhdu.header.set('COMMENT','',after=('COMMENT',6))\n",
      "\n",
      "# Finally, create HDUList object and dump it to the file\n",
      "# Note: clobber means that the script will freely overwrite any file\n",
      "#       with same name. You've been warned!!!\n",
      "hdulist = pyfits.HDUList([hdu, tbhdu])\n",
      "hdulist.writeto('fermi_2lac_v01.fits', clobber=True)"
     ],
     "language": "python",
     "metadata": {},
     "outputs": [],
     "prompt_number": 9
    },
    {
     "cell_type": "markdown",
     "metadata": {},
     "source": [
      "Yay! At this point, we have a brand-new FITS file that will hopefully be useful to our analysis. Lets take it out for a spin, shall we? Peek into the file you just created using <code>pyfits.getheader</code> function. This pretty-prints the header we wrote not too long ago. Let check and make sure that everything looks okay. "
     ]
    },
    {
     "cell_type": "code",
     "collapsed": false,
     "input": [
      "pyfits.getheader('fermi_2lac_v01.fits',1)"
     ],
     "language": "python",
     "metadata": {},
     "outputs": [
      {
       "metadata": {},
       "output_type": "pyout",
       "prompt_number": 10,
       "text": [
        "XTENSION= 'BINTABLE'           / binary table extension                         \n",
        "BITPIX  =                    8 / array data type                                \n",
        "NAXIS   =                    2 / number of array dimensions                     \n",
        "NAXIS1  =                  158 / length of dimension 1                          \n",
        "NAXIS2  =                 1118 / length of dimension 2                          \n",
        "PCOUNT  =                    0 / number of group parameters                     \n",
        "GCOUNT  =                    1 / number of groups                               \n",
        "TFIELDS =                   30 / number of table fields                         \n",
        "COMMENT                                                                         \n",
        "COMMENT *** End of mandatory fields ***                                         \n",
        "COMMENT                                                                         \n",
        "COMMENT                                                                         \n",
        "COMMENT Author: Asif Imran (aimran_at_icecube_dot_wisc_dot_edu)                 \n",
        "COMMENT Created on 01-16-2014 16:42                                             \n",
        "COMMENT *** Columns names ***                                                   \n",
        "COMMENT                                                                         \n",
        "TTYPE1  = 'Fermi_Name'         / Name of the 2FGL source                        \n",
        "TFORM1  = '17A     '                                                            \n",
        "TDISP1  = 'A17     '                                                            \n",
        "TTYPE2  = 'CName   '           / Name of the counterpart                        \n",
        "TFORM2  = '22A     '                                                            \n",
        "TDISP2  = 'A22     '                                                            \n",
        "TTYPE3  = 'RAJ2000 '           / Right Ascension (J2000) of the counterpart     \n",
        "TFORM3  = 'E4      '                                                            \n",
        "TUNIT3  = 'deg     '                                                            \n",
        "TDISP3  = 'F8.4    '                                                            \n",
        "TTYPE4  = 'DEJ2000 '           / Declination (J2000) of the counterpart         \n",
        "TFORM4  = 'E4      '                                                            \n",
        "TUNIT4  = 'deg     '                                                            \n",
        "TDISP4  = 'F8.4    '                                                            \n",
        "TTYPE5  = 'GLON    '           / Galactic Longitude                             \n",
        "TFORM5  = 'E4      '                                                            \n",
        "TUNIT5  = 'deg     '                                                            \n",
        "TDISP5  = 'F8.4    '                                                            \n",
        "TTYPE6  = 'GLAT    '           / Galactic Latitude                              \n",
        "TFORM6  = 'E4      '                                                            \n",
        "TUNIT6  = 'deg     '                                                            \n",
        "TDISP6  = 'F8.4    '                                                            \n",
        "TTYPE7  = 'AngSep  '           / Ang. between 2FGL and its counterpart          \n",
        "TFORM7  = 'E4      '                                                            \n",
        "TUNIT7  = 'deg     '                                                            \n",
        "TDISP7  = 'F8.4    '                                                            \n",
        "TTYPE8  = 'PosErr95deg'        / 95% error radius                               \n",
        "TFORM8  = 'E4      '                                                            \n",
        "TUNIT8  = 'deg     '                                                            \n",
        "TDISP8  = 'F8.4    '                                                            \n",
        "TTYPE9  = 'Class   '           / Optical class                                  \n",
        "TFORM9  = '16A     '                                                            \n",
        "TDISP9  = 'A16     '                                                            \n",
        "TTYPE10 = 'Redshift'           / Redshift                                       \n",
        "TFORM10 = 'E4      '                                                            \n",
        "TDISP10 = 'F8.4    '                                                            \n",
        "TTYPE11 = 'SED_Type'           / SED class based on the synch. peak freq.       \n",
        "TFORM11 = '3A      '                                                            \n",
        "TDISP11 = 'A3      '                                                            \n",
        "TTYPE12 = 'BayProb '           / Bayesian probability                           \n",
        "TFORM12 = 'E4      '                                                            \n",
        "TDISP12 = 'F8.3    '                                                            \n",
        "TTYPE13 = 'LR_RGProb'          / LH prob. for Radio-gamma assoc.                \n",
        "TFORM13 = 'E4      '                                                            \n",
        "TDISP13 = 'F8.3    '                                                            \n",
        "TTYPE14 = 'LR_XGProb'          / LH prob. for X-gamma association               \n",
        "TFORM14 = 'E4      '                                                            \n",
        "TDISP14 = 'F8.3    '                                                            \n",
        "TTYPE15 = 'LogNLogSProb'       / logN-logS probability                          \n",
        "TFORM15 = 'E4      '                                                            \n",
        "TDISP15 = 'F8.3    '                                                            \n",
        "TTYPE16 = 'LR_RG   '           / LH Ratio reliability for Radio-gamma assoc     \n",
        "TFORM16 = 'E4      '                                                            \n",
        "TDISP16 = 'F8.3    '                                                            \n",
        "TTYPE17 = 'LR_XG   '           / LH Ratio reliability for X-gamma assoc.        \n",
        "TFORM17 = 'E4      '                                                            \n",
        "TDISP17 = 'F8.3    '                                                            \n",
        "TTYPE18 = 'Flux1000_100000'    / Photon flux for 1 GeV-100 GeV                  \n",
        "TFORM18 = 'E4      '                                                            \n",
        "TUNIT18 = 'photon/cm2/s'                                                        \n",
        "TDISP18 = 'E10.4   '                                                            \n",
        "TTYPE19 = 'Unc_Flux1000_100000' / Error in photon flux for 1 GeV-100 GeV        \n",
        "TFORM19 = 'E4      '                                                            \n",
        "TUNIT19 = 'photon/cm2/s'                                                        \n",
        "TDISP19 = 'E10.4   '                                                            \n",
        "TTYPE20 = 'Spectral_Index'     / Spectral Index                                 \n",
        "TFORM20 = 'E4      '                                                            \n",
        "TDISP20 = 'F8.4    '                                                            \n",
        "TTYPE21 = 'Unc_Spectral_Index' / Error on Spectral Index                        \n",
        "TFORM21 = 'E4      '                                                            \n",
        "TDISP21 = 'F8.4    '                                                            \n",
        "TTYPE22 = 'TS      '           / Test Statistics: significance                  \n",
        "TFORM22 = 'E4      '                                                            \n",
        "TDISP22 = 'F8.3    '                                                            \n",
        "TTYPE23 = 'Radio_Flux'         / Radio flux                                     \n",
        "TFORM23 = 'E4      '                                                            \n",
        "TUNIT23 = 'mJy     '                                                            \n",
        "TDISP23 = 'F10.4   '                                                            \n",
        "TTYPE24 = 'Xray_Flux'          / X ray band flux                                \n",
        "TFORM24 = 'E4      '                                                            \n",
        "TUNIT24 = 'erg/cm2/s'                                                           \n",
        "TDISP24 = 'E10.4   '                                                            \n",
        "TTYPE25 = 'USNOVmag'           / V Magnitude from USNO B1                       \n",
        "TFORM25 = 'E4      '                                                            \n",
        "TDISP25 = 'F8.3    '                                                            \n",
        "TTYPE26 = 'SDSSVmag'           / V Magnitude from SDSS                          \n",
        "TFORM26 = 'E4      '                                                            \n",
        "TDISP26 = 'F8.3    '                                                            \n",
        "TTYPE27 = 'ARO     '           / Spectral index between radio and Opt. band     \n",
        "TFORM27 = 'E4      '                                                            \n",
        "TDISP27 = 'F8.3    '                                                            \n",
        "TTYPE28 = 'AOX     '           / Spectral index between opt. and X band         \n",
        "TFORM28 = 'E4      '                                                            \n",
        "TDISP28 = 'F8.3    '                                                            \n",
        "TTYPE29 = 'CLEAN   '           / Flag for a source in the Clean sample          \n",
        "TFORM29 = 'I       '                                                            \n",
        "TTYPE30 = 'IN_2FGL '           / Flag for a source in the 2FGL List             \n",
        "TFORM30 = 'I       '                                                            "
       ]
      }
     ],
     "prompt_number": 10
    },
    {
     "cell_type": "heading",
     "level": 1,
     "metadata": {},
     "source": [
      "Analyzing the FITS file"
     ]
    },
    {
     "cell_type": "markdown",
     "metadata": {},
     "source": [
      "In the next day or two, I hope to post more information on how to actually use the FITS file in your analysis. Stay tuned!"
     ]
    }
   ],
   "metadata": {}
  }
 ]
}